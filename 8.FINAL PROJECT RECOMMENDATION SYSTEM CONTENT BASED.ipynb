{
 "cells": [
  {
   "cell_type": "markdown",
   "metadata": {},
   "source": [
    "# RECOMMENDATION SYSTEM - CONTENT BASED"
   ]
  },
  {
   "cell_type": "code",
   "execution_count": 31,
   "metadata": {},
   "outputs": [],
   "source": [
    "import pandas as pd\n",
    "import numpy as np\n",
    "from sklearn.metrics.pairwise import cosine_similarity\n",
    "from sklearn.feature_extraction.text import TfidfVectorizer\n",
    "from nltk.corpus import stopwords\n",
    "import re\n",
    "import random"
   ]
  },
  {
   "cell_type": "code",
   "execution_count": 35,
   "metadata": {},
   "outputs": [
    {
     "data": {
      "text/html": [
       "<div>\n",
       "<style scoped>\n",
       "    .dataframe tbody tr th:only-of-type {\n",
       "        vertical-align: middle;\n",
       "    }\n",
       "\n",
       "    .dataframe tbody tr th {\n",
       "        vertical-align: top;\n",
       "    }\n",
       "\n",
       "    .dataframe thead th {\n",
       "        text-align: right;\n",
       "    }\n",
       "</style>\n",
       "<table border=\"1\" class=\"dataframe\">\n",
       "  <thead>\n",
       "    <tr style=\"text-align: right;\">\n",
       "      <th></th>\n",
       "      <th>name</th>\n",
       "      <th>space</th>\n",
       "      <th>neighbourhood_cleansed</th>\n",
       "    </tr>\n",
       "  </thead>\n",
       "  <tbody>\n",
       "    <tr>\n",
       "      <th>0</th>\n",
       "      <td>La Casa Gaienmae C Harajuku, Omotesando is nearby</td>\n",
       "      <td>This apartment is 3 bedroom flat shared with t...</td>\n",
       "      <td>Shibuya Ku</td>\n",
       "    </tr>\n",
       "    <tr>\n",
       "      <th>1</th>\n",
       "      <td>Oshiage Holiday Apartment</td>\n",
       "      <td>We are happy to welcome you to our apartment, ...</td>\n",
       "      <td>Sumida Ku</td>\n",
       "    </tr>\n",
       "    <tr>\n",
       "      <th>2</th>\n",
       "      <td>Private apt in central Tokyo #203</td>\n",
       "      <td>::::::::::::::::::::::::::::::::::::::::::::::...</td>\n",
       "      <td>Nerima Ku</td>\n",
       "    </tr>\n",
       "    <tr>\n",
       "      <th>3</th>\n",
       "      <td>Cozy flat #203, local area YET 10 mins to shib...</td>\n",
       "      <td>Cozy and Relaxing, at home feeling in a reside...</td>\n",
       "      <td>Setagaya Ku</td>\n",
       "    </tr>\n",
       "    <tr>\n",
       "      <th>4</th>\n",
       "      <td>Private apt in central Tokyo #201</td>\n",
       "      <td>::::::::::::::::::::::::::::::::::::::::::::::...</td>\n",
       "      <td>Nerima Ku</td>\n",
       "    </tr>\n",
       "    <tr>\n",
       "      <th>5</th>\n",
       "      <td>RELAX AT HOME:Shimo 5'/Shibuya 10'</td>\n",
       "      <td>Nice LITTLE house with atmosphere in Tokyo. Be...</td>\n",
       "      <td>Setagaya Ku</td>\n",
       "    </tr>\n",
       "    <tr>\n",
       "      <th>6</th>\n",
       "      <td>Classy room @Shinjuku, Takadanoba</td>\n",
       "      <td>Walkable from Shinjuku station even if you mis...</td>\n",
       "      <td>Shinjuku Ku</td>\n",
       "    </tr>\n",
       "    <tr>\n",
       "      <th>7</th>\n",
       "      <td>4F - Near Shinjuku &amp; Shibuya w/Free WiFi</td>\n",
       "      <td>Welcome and thank you for reading the details ...</td>\n",
       "      <td>Shibuya Ku</td>\n",
       "    </tr>\n",
       "    <tr>\n",
       "      <th>8</th>\n",
       "      <td>WOMAN ONLY LICENSED ! Cosy &amp; Cat behnd Shibuya</td>\n",
       "      <td>We offer quite and peaceful private 6 tatami r...</td>\n",
       "      <td>Setagaya Ku</td>\n",
       "    </tr>\n",
       "    <tr>\n",
       "      <th>9</th>\n",
       "      <td>Home stay with a Japanese language teacher fam...</td>\n",
       "      <td>★*:.★*:.  Must Read 2 .:*★.:*★ *:.Your private...</td>\n",
       "      <td>Shinjuku Ku</td>\n",
       "    </tr>\n",
       "  </tbody>\n",
       "</table>\n",
       "</div>"
      ],
      "text/plain": [
       "                                                name  \\\n",
       "0  La Casa Gaienmae C Harajuku, Omotesando is nearby   \n",
       "1                          Oshiage Holiday Apartment   \n",
       "2                  Private apt in central Tokyo #203   \n",
       "3  Cozy flat #203, local area YET 10 mins to shib...   \n",
       "4                  Private apt in central Tokyo #201   \n",
       "5                 RELAX AT HOME:Shimo 5'/Shibuya 10'   \n",
       "6                  Classy room @Shinjuku, Takadanoba   \n",
       "7           4F - Near Shinjuku & Shibuya w/Free WiFi   \n",
       "8     WOMAN ONLY LICENSED ! Cosy & Cat behnd Shibuya   \n",
       "9  Home stay with a Japanese language teacher fam...   \n",
       "\n",
       "                                               space neighbourhood_cleansed  \n",
       "0  This apartment is 3 bedroom flat shared with t...             Shibuya Ku  \n",
       "1  We are happy to welcome you to our apartment, ...              Sumida Ku  \n",
       "2  ::::::::::::::::::::::::::::::::::::::::::::::...              Nerima Ku  \n",
       "3  Cozy and Relaxing, at home feeling in a reside...            Setagaya Ku  \n",
       "4  ::::::::::::::::::::::::::::::::::::::::::::::...              Nerima Ku  \n",
       "5  Nice LITTLE house with atmosphere in Tokyo. Be...            Setagaya Ku  \n",
       "6  Walkable from Shinjuku station even if you mis...            Shinjuku Ku  \n",
       "7  Welcome and thank you for reading the details ...             Shibuya Ku  \n",
       "8  We offer quite and peaceful private 6 tatami r...            Setagaya Ku  \n",
       "9  ★*:.★*:.  Must Read 2 .:*★.:*★ *:.Your private...            Shinjuku Ku  "
      ]
     },
     "execution_count": 35,
     "metadata": {},
     "output_type": "execute_result"
    }
   ],
   "source": [
    "airbnb = pd.read_csv('./Desktop/listings-2.csv', usecols = ['neighbourhood_cleansed', 'name', 'space'])\n",
    "airbnb.head(10)"
   ]
  },
  {
   "cell_type": "code",
   "execution_count": 42,
   "metadata": {},
   "outputs": [],
   "source": [
    "def print_description(index):\n",
    "    example = airbnb[airbnb.index == index][['neighbourhood_cleansed', 'name', 'space']].values[0]\n",
    "    if len(example) > 0:\n",
    "        print(example[0])\n",
    "        print('Nama:', example[1])\n",
    "        print('Space:\\n',example[2])  "
   ]
  },
  {
   "cell_type": "code",
   "execution_count": 43,
   "metadata": {},
   "outputs": [
    {
     "name": "stdout",
     "output_type": "stream",
     "text": [
      "Sumida Ku\n",
      "Nama: Oshiage Holiday Apartment\n",
      "Space:\n",
      " We are happy to welcome you to our apartment, located in the heart of Tokyo downtown. This is an authentic Japanese apartment with Tatami mattress room and sleeping on Japanese Futon, like Ryokan style. Fully equipped and convienient kitchen will give you oportunity to feel like at home. Automatic bath tub. Separate toilet with heating seat and washlet. Direct acces from both Narita and Haneda airports. Easy access to most of Tokyo attractions. 10min walk from Oshiage Station, 7min walk from Tobu Hikifune Station, 8min walk from Heisei Hikifune Station. Free internet access. Air conditioning, 2 semi-double futon bed (for 2 person each), LCD 32 inch TV, full kitchen, microwave, toster, electric pot, refrigerator, coffee maker, iron, hair dryer, washing machine, bathroom with a bath tub and shower, gas grill. Cooking utensils and linens provided. Our apartment is located in the center of Tokyo downtown, where you can still taste real traditional Japanese style of living. 3 minutes by sub\n"
     ]
    }
   ],
   "source": [
    "print_description(1)"
   ]
  },
  {
   "cell_type": "code",
   "execution_count": 45,
   "metadata": {},
   "outputs": [],
   "source": [
    "airbnb['content'] = airbnb[['name', 'space']].astype(str).apply(lambda x: ' // '.join(x), axis = 1)"
   ]
  },
  {
   "cell_type": "code",
   "execution_count": 46,
   "metadata": {},
   "outputs": [],
   "source": [
    "tf = TfidfVectorizer(analyzer = 'word', ngram_range = (1, 2), min_df = 0, stop_words = 'english')\n",
    "tfidf_matrix = tf.fit_transform(airbnb['content'])"
   ]
  },
  {
   "cell_type": "code",
   "execution_count": 47,
   "metadata": {},
   "outputs": [],
   "source": [
    "cosine_similarities = linear_kernel(tfidf_matrix, tfidf_matrix)"
   ]
  },
  {
   "cell_type": "code",
   "execution_count": 48,
   "metadata": {},
   "outputs": [],
   "source": [
    "results = {}\n",
    "for idx, row in airbnb.iterrows():\n",
    "    similar_indices = cosine_similarities[idx].argsort()[:-100:-1]\n",
    "    similar_items = [(cosine_similarities[idx][i], airbnb['neighbourhood_cleansed'][i]) for i in similar_indices]\n",
    "    results[row['neighbourhood_cleansed']] = similar_items[1:]"
   ]
  },
  {
   "cell_type": "code",
   "execution_count": 52,
   "metadata": {},
   "outputs": [],
   "source": [
    "def item(neighbourhood_cleansed):\n",
    "    name   = airbnb.loc[airbnb['neighbourhood_cleansed'] == neighbourhood_cleansed]['content'].tolist()[0].split(' // ')[0]\n",
    "    desc   = ' \\nSpace: ' + airbnb.loc[airbnb['neighbourhood_cleansed'] == neighbourhood_cleansed]['content'].tolist()[0].split(' // ')[1][0:165] + '...'\n",
    "    prediction = name  + desc\n",
    "    return prediction\n",
    "\n",
    "def recommend(kota, num):\n",
    "    print('Rekomendasi ' + str(num) + ' listing yang mirip dengan ' + item(kota))\n",
    "    print('---')\n",
    "    recs = results[kota][:num]\n",
    "    for rec in recs:\n",
    "        print('\\nHasil : ' + item(rec[1]))"
   ]
  },
  {
   "cell_type": "code",
   "execution_count": 54,
   "metadata": {},
   "outputs": [
    {
     "name": "stdin",
     "output_type": "stream",
     "text": [
      "Masukkan Area yang ingin anda lihat:  Shinagawa Ku\n",
      "Masukkan Jumlah Pencarian: \n",
      " 10\n"
     ]
    },
    {
     "name": "stdout",
     "output_type": "stream",
     "text": [
      "Rekomendasi 10 listing yang mirip dengan share house 'Miraie' @JR Osaki \n",
      "Space: Meet and have a great share life experience with an international marriage family as well as a Japanese person during your stay in Japan.  What is Miraie? The name o...\n",
      "---\n",
      "\n",
      "Hasil : 30sec Sta.nearSUMO AKB Shinjuku AB \n",
      "Space: Subway is the most common form of transit in Tokyo as there are many convenient stations.  It is both practical and inexpensive. This is my Airbnb website - thanks f...\n",
      "\n",
      "Hasil : Pine House 2 Bed Room + 2 Toilets \n",
      "Space: #HOUSE All-private 2 story apartment (1st and 2nd floor) with kitchen, shower, 2 toilets, and 2 bedrooms #CHECK-IN / CHECK-OUT -Self check-in, self check-out (but yo...\n",
      "\n",
      "Hasil : Oshiage Holiday Apartment \n",
      "Space: We are happy to welcome you to our apartment, located in the heart of Tokyo downtown. This is an authentic Japanese apartment with Tatami mattress room and sleeping ...\n",
      "\n",
      "Hasil : Oshiage Holiday Apartment \n",
      "Space: We are happy to welcome you to our apartment, located in the heart of Tokyo downtown. This is an authentic Japanese apartment with Tatami mattress room and sleeping ...\n",
      "\n",
      "Hasil : Classy room @Shinjuku, Takadanoba \n",
      "Space: Walkable from Shinjuku station even if you miss the last train. With a classy designed building, you can enjoy a neo-Tokyo stay. The house is 9 minutes from Takadano...\n",
      "\n",
      "Hasil : Oshiage Holiday Apartment \n",
      "Space: We are happy to welcome you to our apartment, located in the heart of Tokyo downtown. This is an authentic Japanese apartment with Tatami mattress room and sleeping ...\n",
      "\n",
      "Hasil : Tatoo ok! Onsen of 400 years of history【禅】 \n",
      "Space: The bathroom and kitchen aren't shared. Within your room, you have your own kitchenette, shower and toilet. To funabori station need 5 min by walking. to shinjiuku n...\n",
      "\n",
      "Hasil : Haneda 30min/La casa 1A \n",
      "Space: Located in Ota-ku, right in the south of Tokyo. 30 min from Haneda International Airport, easy access to all major metro & train lines. It's a studio type of apartme...\n",
      "\n",
      "Hasil : Haneda 30min/La casa 1A \n",
      "Space: Located in Ota-ku, right in the south of Tokyo. 30 min from Haneda International Airport, easy access to all major metro & train lines. It's a studio type of apartme...\n",
      "\n",
      "Hasil : Haneda 30min/La casa 1A \n",
      "Space: Located in Ota-ku, right in the south of Tokyo. 30 min from Haneda International Airport, easy access to all major metro & train lines. It's a studio type of apartme...\n"
     ]
    }
   ],
   "source": [
    "KOTA = input(\"Masukkan Area yang ingin anda lihat: \")\n",
    "JUMLAH = int(input(\"Masukkan Jumlah Pencarian: \\n\"))\n",
    "recommend(kota = KOTA ,num = JUMLAH)"
   ]
  },
  {
   "cell_type": "code",
   "execution_count": null,
   "metadata": {},
   "outputs": [],
   "source": []
  }
 ],
 "metadata": {
  "kernelspec": {
   "display_name": "Python 3",
   "language": "python",
   "name": "python3"
  },
  "language_info": {
   "codemirror_mode": {
    "name": "ipython",
    "version": 3
   },
   "file_extension": ".py",
   "mimetype": "text/x-python",
   "name": "python",
   "nbconvert_exporter": "python",
   "pygments_lexer": "ipython3",
   "version": "3.7.6"
  }
 },
 "nbformat": 4,
 "nbformat_minor": 4
}
